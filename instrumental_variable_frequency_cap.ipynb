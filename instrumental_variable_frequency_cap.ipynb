{
 "cells": [
  {
   "cell_type": "code",
   "execution_count": 1,
   "metadata": {
    "slideshow": {
     "slide_type": "skip"
    }
   },
   "outputs": [
    {
     "name": "stdout",
     "output_type": "stream",
     "text": [
      "Requirement already satisfied: numpy in /Users/rubenmak/Projects/pydata_eindhoven_2020_IV_frequency_cap/venv/freqcap_iv/lib/python3.8/site-packages (1.19.2)\n",
      "\u001b[33mWARNING: You are using pip version 19.2.3, however version 20.2.3 is available.\n",
      "You should consider upgrading via the 'pip install --upgrade pip' command.\u001b[0m\n",
      "Requirement already satisfied: matplotlib in /Users/rubenmak/Projects/pydata_eindhoven_2020_IV_frequency_cap/venv/freqcap_iv/lib/python3.8/site-packages (3.3.2)\n",
      "Requirement already satisfied: numpy>=1.15 in /Users/rubenmak/Projects/pydata_eindhoven_2020_IV_frequency_cap/venv/freqcap_iv/lib/python3.8/site-packages (from matplotlib) (1.19.2)\n",
      "Requirement already satisfied: pyparsing!=2.0.4,!=2.1.2,!=2.1.6,>=2.0.3 in /Users/rubenmak/Projects/pydata_eindhoven_2020_IV_frequency_cap/venv/freqcap_iv/lib/python3.8/site-packages (from matplotlib) (2.4.7)\n",
      "Requirement already satisfied: pillow>=6.2.0 in /Users/rubenmak/Projects/pydata_eindhoven_2020_IV_frequency_cap/venv/freqcap_iv/lib/python3.8/site-packages (from matplotlib) (7.2.0)\n",
      "Requirement already satisfied: kiwisolver>=1.0.1 in /Users/rubenmak/Projects/pydata_eindhoven_2020_IV_frequency_cap/venv/freqcap_iv/lib/python3.8/site-packages (from matplotlib) (1.2.0)\n",
      "Requirement already satisfied: python-dateutil>=2.1 in /Users/rubenmak/Projects/pydata_eindhoven_2020_IV_frequency_cap/venv/freqcap_iv/lib/python3.8/site-packages (from matplotlib) (2.8.1)\n",
      "Requirement already satisfied: cycler>=0.10 in /Users/rubenmak/Projects/pydata_eindhoven_2020_IV_frequency_cap/venv/freqcap_iv/lib/python3.8/site-packages (from matplotlib) (0.10.0)\n",
      "Requirement already satisfied: certifi>=2020.06.20 in /Users/rubenmak/Projects/pydata_eindhoven_2020_IV_frequency_cap/venv/freqcap_iv/lib/python3.8/site-packages (from matplotlib) (2020.6.20)\n",
      "Requirement already satisfied: six>=1.5 in /Users/rubenmak/Projects/pydata_eindhoven_2020_IV_frequency_cap/venv/freqcap_iv/lib/python3.8/site-packages (from python-dateutil>=2.1->matplotlib) (1.15.0)\n",
      "\u001b[33mWARNING: You are using pip version 19.2.3, however version 20.2.3 is available.\n",
      "You should consider upgrading via the 'pip install --upgrade pip' command.\u001b[0m\n",
      "Requirement already satisfied: pandas in /Users/rubenmak/Projects/pydata_eindhoven_2020_IV_frequency_cap/venv/freqcap_iv/lib/python3.8/site-packages (1.1.2)\n",
      "Requirement already satisfied: pytz>=2017.2 in /Users/rubenmak/Projects/pydata_eindhoven_2020_IV_frequency_cap/venv/freqcap_iv/lib/python3.8/site-packages (from pandas) (2020.1)\n",
      "Requirement already satisfied: python-dateutil>=2.7.3 in /Users/rubenmak/Projects/pydata_eindhoven_2020_IV_frequency_cap/venv/freqcap_iv/lib/python3.8/site-packages (from pandas) (2.8.1)\n",
      "Requirement already satisfied: numpy>=1.15.4 in /Users/rubenmak/Projects/pydata_eindhoven_2020_IV_frequency_cap/venv/freqcap_iv/lib/python3.8/site-packages (from pandas) (1.19.2)\n",
      "Requirement already satisfied: six>=1.5 in /Users/rubenmak/Projects/pydata_eindhoven_2020_IV_frequency_cap/venv/freqcap_iv/lib/python3.8/site-packages (from python-dateutil>=2.7.3->pandas) (1.15.0)\n",
      "\u001b[33mWARNING: You are using pip version 19.2.3, however version 20.2.3 is available.\n",
      "You should consider upgrading via the 'pip install --upgrade pip' command.\u001b[0m\n",
      "Requirement already satisfied: scipy in /Users/rubenmak/Projects/pydata_eindhoven_2020_IV_frequency_cap/venv/freqcap_iv/lib/python3.8/site-packages (1.5.2)\n",
      "Requirement already satisfied: numpy>=1.14.5 in /Users/rubenmak/Projects/pydata_eindhoven_2020_IV_frequency_cap/venv/freqcap_iv/lib/python3.8/site-packages (from scipy) (1.19.2)\n",
      "\u001b[33mWARNING: You are using pip version 19.2.3, however version 20.2.3 is available.\n",
      "You should consider upgrading via the 'pip install --upgrade pip' command.\u001b[0m\n",
      "Requirement already satisfied: pymc3 in /Users/rubenmak/Projects/pydata_eindhoven_2020_IV_frequency_cap/venv/freqcap_iv/lib/python3.8/site-packages (3.9.3)\n",
      "Requirement already satisfied: theano>=1.0.5 in /Users/rubenmak/Projects/pydata_eindhoven_2020_IV_frequency_cap/venv/freqcap_iv/lib/python3.8/site-packages (from pymc3) (1.0.5)\n",
      "Requirement already satisfied: numpy>=1.13.0 in /Users/rubenmak/Projects/pydata_eindhoven_2020_IV_frequency_cap/venv/freqcap_iv/lib/python3.8/site-packages (from pymc3) (1.19.2)\n",
      "Requirement already satisfied: arviz>=0.9.0 in /Users/rubenmak/Projects/pydata_eindhoven_2020_IV_frequency_cap/venv/freqcap_iv/lib/python3.8/site-packages (from pymc3) (0.10.0)\n",
      "Requirement already satisfied: h5py>=2.7.0 in /Users/rubenmak/Projects/pydata_eindhoven_2020_IV_frequency_cap/venv/freqcap_iv/lib/python3.8/site-packages (from pymc3) (2.10.0)\n",
      "Requirement already satisfied: typing-extensions>=3.7.4 in /Users/rubenmak/Projects/pydata_eindhoven_2020_IV_frequency_cap/venv/freqcap_iv/lib/python3.8/site-packages (from pymc3) (3.7.4.3)\n",
      "Requirement already satisfied: fastprogress>=0.2.0 in /Users/rubenmak/Projects/pydata_eindhoven_2020_IV_frequency_cap/venv/freqcap_iv/lib/python3.8/site-packages (from pymc3) (1.0.0)\n",
      "Requirement already satisfied: pandas>=0.18.0 in /Users/rubenmak/Projects/pydata_eindhoven_2020_IV_frequency_cap/venv/freqcap_iv/lib/python3.8/site-packages (from pymc3) (1.1.2)\n",
      "Requirement already satisfied: scipy>=0.18.1 in /Users/rubenmak/Projects/pydata_eindhoven_2020_IV_frequency_cap/venv/freqcap_iv/lib/python3.8/site-packages (from pymc3) (1.5.2)\n",
      "Requirement already satisfied: patsy>=0.5.1 in /Users/rubenmak/Projects/pydata_eindhoven_2020_IV_frequency_cap/venv/freqcap_iv/lib/python3.8/site-packages (from pymc3) (0.5.1)\n",
      "Requirement already satisfied: six>=1.9.0 in /Users/rubenmak/Projects/pydata_eindhoven_2020_IV_frequency_cap/venv/freqcap_iv/lib/python3.8/site-packages (from theano>=1.0.5->pymc3) (1.15.0)\n",
      "Requirement already satisfied: packaging in /Users/rubenmak/Projects/pydata_eindhoven_2020_IV_frequency_cap/venv/freqcap_iv/lib/python3.8/site-packages (from arviz>=0.9.0->pymc3) (20.4)\n",
      "Requirement already satisfied: setuptools>=38.4 in /Users/rubenmak/Projects/pydata_eindhoven_2020_IV_frequency_cap/venv/freqcap_iv/lib/python3.8/site-packages (from arviz>=0.9.0->pymc3) (41.2.0)\n",
      "Requirement already satisfied: xarray>=0.16.1 in /Users/rubenmak/Projects/pydata_eindhoven_2020_IV_frequency_cap/venv/freqcap_iv/lib/python3.8/site-packages (from arviz>=0.9.0->pymc3) (0.16.1)\n",
      "Requirement already satisfied: matplotlib>=3.0 in /Users/rubenmak/Projects/pydata_eindhoven_2020_IV_frequency_cap/venv/freqcap_iv/lib/python3.8/site-packages (from arviz>=0.9.0->pymc3) (3.3.2)\n",
      "Requirement already satisfied: netcdf4 in /Users/rubenmak/Projects/pydata_eindhoven_2020_IV_frequency_cap/venv/freqcap_iv/lib/python3.8/site-packages (from arviz>=0.9.0->pymc3) (1.5.4)\n",
      "Requirement already satisfied: python-dateutil>=2.7.3 in /Users/rubenmak/Projects/pydata_eindhoven_2020_IV_frequency_cap/venv/freqcap_iv/lib/python3.8/site-packages (from pandas>=0.18.0->pymc3) (2.8.1)\n",
      "Requirement already satisfied: pytz>=2017.2 in /Users/rubenmak/Projects/pydata_eindhoven_2020_IV_frequency_cap/venv/freqcap_iv/lib/python3.8/site-packages (from pandas>=0.18.0->pymc3) (2020.1)\n",
      "Requirement already satisfied: pyparsing>=2.0.2 in /Users/rubenmak/Projects/pydata_eindhoven_2020_IV_frequency_cap/venv/freqcap_iv/lib/python3.8/site-packages (from packaging->arviz>=0.9.0->pymc3) (2.4.7)\n",
      "Requirement already satisfied: certifi>=2020.06.20 in /Users/rubenmak/Projects/pydata_eindhoven_2020_IV_frequency_cap/venv/freqcap_iv/lib/python3.8/site-packages (from matplotlib>=3.0->arviz>=0.9.0->pymc3) (2020.6.20)\n",
      "Requirement already satisfied: cycler>=0.10 in /Users/rubenmak/Projects/pydata_eindhoven_2020_IV_frequency_cap/venv/freqcap_iv/lib/python3.8/site-packages (from matplotlib>=3.0->arviz>=0.9.0->pymc3) (0.10.0)\n",
      "Requirement already satisfied: pillow>=6.2.0 in /Users/rubenmak/Projects/pydata_eindhoven_2020_IV_frequency_cap/venv/freqcap_iv/lib/python3.8/site-packages (from matplotlib>=3.0->arviz>=0.9.0->pymc3) (7.2.0)\n",
      "Requirement already satisfied: kiwisolver>=1.0.1 in /Users/rubenmak/Projects/pydata_eindhoven_2020_IV_frequency_cap/venv/freqcap_iv/lib/python3.8/site-packages (from matplotlib>=3.0->arviz>=0.9.0->pymc3) (1.2.0)\n",
      "Requirement already satisfied: cftime in /Users/rubenmak/Projects/pydata_eindhoven_2020_IV_frequency_cap/venv/freqcap_iv/lib/python3.8/site-packages (from netcdf4->arviz>=0.9.0->pymc3) (1.2.1)\n"
     ]
    },
    {
     "name": "stdout",
     "output_type": "stream",
     "text": [
      "\u001b[33mWARNING: You are using pip version 19.2.3, however version 20.2.3 is available.\n",
      "You should consider upgrading via the 'pip install --upgrade pip' command.\u001b[0m\n",
      "Requirement already satisfied: seaborn in /Users/rubenmak/Projects/pydata_eindhoven_2020_IV_frequency_cap/venv/freqcap_iv/lib/python3.8/site-packages (0.11.0)\n",
      "Requirement already satisfied: scipy>=1.0 in /Users/rubenmak/Projects/pydata_eindhoven_2020_IV_frequency_cap/venv/freqcap_iv/lib/python3.8/site-packages (from seaborn) (1.5.2)\n",
      "Requirement already satisfied: matplotlib>=2.2 in /Users/rubenmak/Projects/pydata_eindhoven_2020_IV_frequency_cap/venv/freqcap_iv/lib/python3.8/site-packages (from seaborn) (3.3.2)\n",
      "Requirement already satisfied: pandas>=0.23 in /Users/rubenmak/Projects/pydata_eindhoven_2020_IV_frequency_cap/venv/freqcap_iv/lib/python3.8/site-packages (from seaborn) (1.1.2)\n",
      "Requirement already satisfied: numpy>=1.15 in /Users/rubenmak/Projects/pydata_eindhoven_2020_IV_frequency_cap/venv/freqcap_iv/lib/python3.8/site-packages (from seaborn) (1.19.2)\n",
      "Requirement already satisfied: kiwisolver>=1.0.1 in /Users/rubenmak/Projects/pydata_eindhoven_2020_IV_frequency_cap/venv/freqcap_iv/lib/python3.8/site-packages (from matplotlib>=2.2->seaborn) (1.2.0)\n",
      "Requirement already satisfied: cycler>=0.10 in /Users/rubenmak/Projects/pydata_eindhoven_2020_IV_frequency_cap/venv/freqcap_iv/lib/python3.8/site-packages (from matplotlib>=2.2->seaborn) (0.10.0)\n",
      "Requirement already satisfied: pillow>=6.2.0 in /Users/rubenmak/Projects/pydata_eindhoven_2020_IV_frequency_cap/venv/freqcap_iv/lib/python3.8/site-packages (from matplotlib>=2.2->seaborn) (7.2.0)\n",
      "Requirement already satisfied: pyparsing!=2.0.4,!=2.1.2,!=2.1.6,>=2.0.3 in /Users/rubenmak/Projects/pydata_eindhoven_2020_IV_frequency_cap/venv/freqcap_iv/lib/python3.8/site-packages (from matplotlib>=2.2->seaborn) (2.4.7)\n",
      "Requirement already satisfied: python-dateutil>=2.1 in /Users/rubenmak/Projects/pydata_eindhoven_2020_IV_frequency_cap/venv/freqcap_iv/lib/python3.8/site-packages (from matplotlib>=2.2->seaborn) (2.8.1)\n",
      "Requirement already satisfied: certifi>=2020.06.20 in /Users/rubenmak/Projects/pydata_eindhoven_2020_IV_frequency_cap/venv/freqcap_iv/lib/python3.8/site-packages (from matplotlib>=2.2->seaborn) (2020.6.20)\n",
      "Requirement already satisfied: pytz>=2017.2 in /Users/rubenmak/Projects/pydata_eindhoven_2020_IV_frequency_cap/venv/freqcap_iv/lib/python3.8/site-packages (from pandas>=0.23->seaborn) (2020.1)\n",
      "Requirement already satisfied: six in /Users/rubenmak/Projects/pydata_eindhoven_2020_IV_frequency_cap/venv/freqcap_iv/lib/python3.8/site-packages (from cycler>=0.10->matplotlib>=2.2->seaborn) (1.15.0)\n",
      "\u001b[33mWARNING: You are using pip version 19.2.3, however version 20.2.3 is available.\n",
      "You should consider upgrading via the 'pip install --upgrade pip' command.\u001b[0m\n"
     ]
    }
   ],
   "source": [
    "import sys\n",
    "!{sys.executable} -m pip install numpy\n",
    "!{sys.executable} -m pip install matplotlib\n",
    "!{sys.executable} -m pip install pandas\n",
    "!{sys.executable} -m pip install scipy\n",
    "!{sys.executable} -m pip install pymc3\n",
    "!{sys.executable} -m pip install seaborn"
   ]
  },
  {
   "cell_type": "code",
   "execution_count": 2,
   "metadata": {
    "slideshow": {
     "slide_type": "skip"
    }
   },
   "outputs": [],
   "source": [
    "import numpy as np\n",
    "import pandas as pd\n",
    "import matplotlib.pyplot as plt\n",
    "from scipy import stats\n",
    "import pymc3 as pm\n",
    "import seaborn as sns\n",
    "from functions import generate_simulation_data, plot_posteriors"
   ]
  },
  {
   "cell_type": "markdown",
   "metadata": {
    "slideshow": {
     "slide_type": "slide"
    }
   },
   "source": [
    "<p class=\"gap2\">\n",
    "<h1 style=\"font-weight: bold; color: #12698a\">Instrumental Variable Analysis for Estimation of Repetitive Ad Effectiveness<br>\n",
    "</h1>\n",
    "\n",
    "<h2 style=\"color: #50494e\">PyMCon 2020</h2>\n",
    "\n",
    "\n",
    "<p class=\"gap05\">  </p>\n",
    "<h3 style=\"color: #12698a\">Ruben Mak <br>\n",
    "Principal Data Scientist and Discovery Cluster Lead at Greenhouse</h3>\n",
    "<img src=\"images/PyMC3_banner.svg\">\n",
    "</p>"
   ]
  },
  {
   "cell_type": "markdown",
   "metadata": {
    "slideshow": {
     "slide_type": "slide"
    }
   },
   "source": [
    "## Short introduction\n",
    "\n",
    "<p><img src=\"images/wpp_greenhouse.png\"></p>"
   ]
  },
  {
   "cell_type": "markdown",
   "metadata": {
    "slideshow": {
     "slide_type": "slide"
    }
   },
   "source": [
    "## Quickly some terminology\n",
    "* impression: an ad is loaded once onto a webpage browsed by a user"
   ]
  },
  {
   "cell_type": "markdown",
   "metadata": {
    "slideshow": {
     "slide_type": "fragment"
    }
   },
   "source": [
    "* conversion: the desired outcome of an advertiser, for example online purchase or visiting a specific webpage on the advertiser's website"
   ]
  },
  {
   "cell_type": "markdown",
   "metadata": {
    "slideshow": {
     "slide_type": "fragment"
    }
   },
   "source": [
    "* frequency cap: a setting which determines the maximum amount of impressions a user can get of an ad"
   ]
  },
  {
   "cell_type": "markdown",
   "metadata": {
    "slideshow": {
     "slide_type": "slide"
    }
   },
   "source": [
    "## Research question\n",
    "* What is the optimal amount of impressions per user to maximize conversions?"
   ]
  },
  {
   "cell_type": "markdown",
   "metadata": {
    "slideshow": {
     "slide_type": "slide"
    }
   },
   "source": [
    "## What does the data say?\n",
    "\n",
    "<p><img src=\"images/optimum_plots.png\"></p>"
   ]
  },
  {
   "cell_type": "markdown",
   "metadata": {
    "slideshow": {
     "slide_type": "slide"
    }
   },
   "source": [
    "## Maybe we should draw a causal graph...\n",
    "\n",
    "<p><img src=\"images/causal_graph_1.png\"></p>"
   ]
  },
  {
   "cell_type": "markdown",
   "metadata": {
    "slideshow": {
     "slide_type": "slide"
    }
   },
   "source": [
    "## Maybe we should draw a causal graph...\n",
    "\n",
    "<p><img src=\"images/causal_graph_2.png\"></p>"
   ]
  },
  {
   "cell_type": "markdown",
   "metadata": {
    "slideshow": {
     "slide_type": "slide"
    }
   },
   "source": [
    "## Instrumental Variable Setup\n",
    "* The golden standard, A/B test (Random Controlled Trial) doesn't work..."
   ]
  },
  {
   "cell_type": "markdown",
   "metadata": {
    "slideshow": {
     "slide_type": "fragment"
    }
   },
   "source": [
    "* But we can run a A/B/n test on the frequency cap."
   ]
  },
  {
   "cell_type": "markdown",
   "metadata": {
    "slideshow": {
     "slide_type": "fragment"
    }
   },
   "source": [
    "* This is a perfect setting to apply instrumental variables!"
   ]
  },
  {
   "cell_type": "markdown",
   "metadata": {
    "slideshow": {
     "slide_type": "slide"
    }
   },
   "source": [
    "## Let's complete our causal graph\n",
    "\n",
    "<p><img src=\"images/causal_graph_3.png\"></p>"
   ]
  },
  {
   "cell_type": "markdown",
   "metadata": {
    "slideshow": {
     "slide_type": "slide"
    }
   },
   "source": [
    "## Research question\n",
    "* What is the optimal amount of impressions per user to maximize conversions?"
   ]
  },
  {
   "cell_type": "markdown",
   "metadata": {
    "slideshow": {
     "slide_type": "fragment"
    }
   },
   "source": [
    "* Do we really need instrumental variables, or are we looking for the results of the A/B test instead?"
   ]
  },
  {
   "cell_type": "code",
   "execution_count": 3,
   "metadata": {
    "slideshow": {
     "slide_type": "slide"
    }
   },
   "outputs": [],
   "source": [
    "max_cap = 7\n",
    "max_impr = 7\n",
    "\n",
    "base_conversion_probability = [0.015, 0.07, 0.07, 0.08, 0.125, 0.08, 0.04]\n",
    "effects = [0.1, 0.06, 0.04, 0.025, 0.015, 0.01, 0.005]\n",
    "\n",
    "P_potential_impressions = [0.27, 0.21, 0.19, 0.14, 0.08, 0.06, 0.05]\n",
    "P_frequency_cap = [1 / max_cap] * max_cap\n",
    "\n",
    "n_users = 10 ** 6\n",
    "\n",
    "df = generate_simulation_data(P_potential_impressions,\n",
    "                            P_frequency_cap,\n",
    "                            base_conversion_probability,\n",
    "                            effects,\n",
    "                            n_users)\n",
    "\n",
    "df['non_conversions'] = df['users'] - df['conversions']"
   ]
  },
  {
   "cell_type": "code",
   "execution_count": 4,
   "metadata": {
    "slideshow": {
     "slide_type": "slide"
    }
   },
   "outputs": [
    {
     "data": {
      "text/html": [
       "<div>\n",
       "<style scoped>\n",
       "    .dataframe tbody tr th:only-of-type {\n",
       "        vertical-align: middle;\n",
       "    }\n",
       "\n",
       "    .dataframe tbody tr th {\n",
       "        vertical-align: top;\n",
       "    }\n",
       "\n",
       "    .dataframe thead th {\n",
       "        text-align: right;\n",
       "    }\n",
       "</style>\n",
       "<table border=\"1\" class=\"dataframe\">\n",
       "  <thead>\n",
       "    <tr style=\"text-align: right;\">\n",
       "      <th></th>\n",
       "      <th></th>\n",
       "      <th>users</th>\n",
       "      <th>conversions</th>\n",
       "      <th>non_conversions</th>\n",
       "    </tr>\n",
       "    <tr>\n",
       "      <th>frequency_cap</th>\n",
       "      <th>impressions</th>\n",
       "      <th></th>\n",
       "      <th></th>\n",
       "      <th></th>\n",
       "    </tr>\n",
       "  </thead>\n",
       "  <tbody>\n",
       "    <tr>\n",
       "      <th>1</th>\n",
       "      <th>1</th>\n",
       "      <td>142913</td>\n",
       "      <td>22933</td>\n",
       "      <td>119980</td>\n",
       "    </tr>\n",
       "    <tr>\n",
       "      <th rowspan=\"2\" valign=\"top\">2</th>\n",
       "      <th>1</th>\n",
       "      <td>38583</td>\n",
       "      <td>4434</td>\n",
       "      <td>34149</td>\n",
       "    </tr>\n",
       "    <tr>\n",
       "      <th>2</th>\n",
       "      <td>104329</td>\n",
       "      <td>24665</td>\n",
       "      <td>79664</td>\n",
       "    </tr>\n",
       "    <tr>\n",
       "      <th rowspan=\"3\" valign=\"top\">3</th>\n",
       "      <th>1</th>\n",
       "      <td>38656</td>\n",
       "      <td>4485</td>\n",
       "      <td>34171</td>\n",
       "    </tr>\n",
       "    <tr>\n",
       "      <th>2</th>\n",
       "      <td>30062</td>\n",
       "      <td>6877</td>\n",
       "      <td>23185</td>\n",
       "    </tr>\n",
       "    <tr>\n",
       "      <th>3</th>\n",
       "      <td>74453</td>\n",
       "      <td>20899</td>\n",
       "      <td>53554</td>\n",
       "    </tr>\n",
       "    <tr>\n",
       "      <th rowspan=\"4\" valign=\"top\">4</th>\n",
       "      <th>1</th>\n",
       "      <td>38306</td>\n",
       "      <td>4458</td>\n",
       "      <td>33848</td>\n",
       "    </tr>\n",
       "    <tr>\n",
       "      <th>2</th>\n",
       "      <td>29836</td>\n",
       "      <td>6737</td>\n",
       "      <td>23099</td>\n",
       "    </tr>\n",
       "    <tr>\n",
       "      <th>3</th>\n",
       "      <td>27205</td>\n",
       "      <td>7313</td>\n",
       "      <td>19892</td>\n",
       "    </tr>\n",
       "    <tr>\n",
       "      <th>4</th>\n",
       "      <td>47341</td>\n",
       "      <td>14565</td>\n",
       "      <td>32776</td>\n",
       "    </tr>\n",
       "    <tr>\n",
       "      <th rowspan=\"5\" valign=\"top\">5</th>\n",
       "      <th>1</th>\n",
       "      <td>38660</td>\n",
       "      <td>4384</td>\n",
       "      <td>34276</td>\n",
       "    </tr>\n",
       "    <tr>\n",
       "      <th>2</th>\n",
       "      <td>29928</td>\n",
       "      <td>6789</td>\n",
       "      <td>23139</td>\n",
       "    </tr>\n",
       "    <tr>\n",
       "      <th>3</th>\n",
       "      <td>27305</td>\n",
       "      <td>7364</td>\n",
       "      <td>19941</td>\n",
       "    </tr>\n",
       "    <tr>\n",
       "      <th>4</th>\n",
       "      <td>19894</td>\n",
       "      <td>6079</td>\n",
       "      <td>13815</td>\n",
       "    </tr>\n",
       "    <tr>\n",
       "      <th>5</th>\n",
       "      <td>27225</td>\n",
       "      <td>8882</td>\n",
       "      <td>18343</td>\n",
       "    </tr>\n",
       "    <tr>\n",
       "      <th rowspan=\"6\" valign=\"top\">6</th>\n",
       "      <th>1</th>\n",
       "      <td>38323</td>\n",
       "      <td>4372</td>\n",
       "      <td>33951</td>\n",
       "    </tr>\n",
       "    <tr>\n",
       "      <th>2</th>\n",
       "      <td>29947</td>\n",
       "      <td>6955</td>\n",
       "      <td>22992</td>\n",
       "    </tr>\n",
       "    <tr>\n",
       "      <th>3</th>\n",
       "      <td>26935</td>\n",
       "      <td>7198</td>\n",
       "      <td>19737</td>\n",
       "    </tr>\n",
       "    <tr>\n",
       "      <th>4</th>\n",
       "      <td>20091</td>\n",
       "      <td>6069</td>\n",
       "      <td>14022</td>\n",
       "    </tr>\n",
       "    <tr>\n",
       "      <th>5</th>\n",
       "      <td>11394</td>\n",
       "      <td>4165</td>\n",
       "      <td>7229</td>\n",
       "    </tr>\n",
       "    <tr>\n",
       "      <th>6</th>\n",
       "      <td>15640</td>\n",
       "      <td>4897</td>\n",
       "      <td>10743</td>\n",
       "    </tr>\n",
       "    <tr>\n",
       "      <th rowspan=\"7\" valign=\"top\">7</th>\n",
       "      <th>1</th>\n",
       "      <td>38849</td>\n",
       "      <td>4407</td>\n",
       "      <td>34442</td>\n",
       "    </tr>\n",
       "    <tr>\n",
       "      <th>2</th>\n",
       "      <td>29961</td>\n",
       "      <td>6894</td>\n",
       "      <td>23067</td>\n",
       "    </tr>\n",
       "    <tr>\n",
       "      <th>3</th>\n",
       "      <td>26830</td>\n",
       "      <td>7297</td>\n",
       "      <td>19533</td>\n",
       "    </tr>\n",
       "    <tr>\n",
       "      <th>4</th>\n",
       "      <td>20167</td>\n",
       "      <td>6186</td>\n",
       "      <td>13981</td>\n",
       "    </tr>\n",
       "    <tr>\n",
       "      <th>5</th>\n",
       "      <td>11485</td>\n",
       "      <td>4234</td>\n",
       "      <td>7251</td>\n",
       "    </tr>\n",
       "    <tr>\n",
       "      <th>6</th>\n",
       "      <td>8496</td>\n",
       "      <td>2809</td>\n",
       "      <td>5687</td>\n",
       "    </tr>\n",
       "    <tr>\n",
       "      <th>7</th>\n",
       "      <td>7186</td>\n",
       "      <td>2203</td>\n",
       "      <td>4983</td>\n",
       "    </tr>\n",
       "  </tbody>\n",
       "</table>\n",
       "</div>"
      ],
      "text/plain": [
       "                            users  conversions  non_conversions\n",
       "frequency_cap impressions                                      \n",
       "1             1            142913        22933           119980\n",
       "2             1             38583         4434            34149\n",
       "              2            104329        24665            79664\n",
       "3             1             38656         4485            34171\n",
       "              2             30062         6877            23185\n",
       "              3             74453        20899            53554\n",
       "4             1             38306         4458            33848\n",
       "              2             29836         6737            23099\n",
       "              3             27205         7313            19892\n",
       "              4             47341        14565            32776\n",
       "5             1             38660         4384            34276\n",
       "              2             29928         6789            23139\n",
       "              3             27305         7364            19941\n",
       "              4             19894         6079            13815\n",
       "              5             27225         8882            18343\n",
       "6             1             38323         4372            33951\n",
       "              2             29947         6955            22992\n",
       "              3             26935         7198            19737\n",
       "              4             20091         6069            14022\n",
       "              5             11394         4165             7229\n",
       "              6             15640         4897            10743\n",
       "7             1             38849         4407            34442\n",
       "              2             29961         6894            23067\n",
       "              3             26830         7297            19533\n",
       "              4             20167         6186            13981\n",
       "              5             11485         4234             7251\n",
       "              6              8496         2809             5687\n",
       "              7              7186         2203             4983"
      ]
     },
     "execution_count": 4,
     "metadata": {},
     "output_type": "execute_result"
    }
   ],
   "source": [
    "df"
   ]
  },
  {
   "cell_type": "code",
   "execution_count": 5,
   "metadata": {
    "slideshow": {
     "slide_type": "slide"
    }
   },
   "outputs": [
    {
     "data": {
      "text/html": [
       "<div>\n",
       "<style scoped>\n",
       "    .dataframe tbody tr th:only-of-type {\n",
       "        vertical-align: middle;\n",
       "    }\n",
       "\n",
       "    .dataframe tbody tr th {\n",
       "        vertical-align: top;\n",
       "    }\n",
       "\n",
       "    .dataframe thead th {\n",
       "        text-align: right;\n",
       "    }\n",
       "</style>\n",
       "<table border=\"1\" class=\"dataframe\">\n",
       "  <thead>\n",
       "    <tr style=\"text-align: right;\">\n",
       "      <th></th>\n",
       "      <th>users</th>\n",
       "      <th>conversions</th>\n",
       "      <th>non_conversions</th>\n",
       "    </tr>\n",
       "    <tr>\n",
       "      <th>impressions</th>\n",
       "      <th></th>\n",
       "      <th></th>\n",
       "      <th></th>\n",
       "    </tr>\n",
       "  </thead>\n",
       "  <tbody>\n",
       "    <tr>\n",
       "      <th>1</th>\n",
       "      <td>374290</td>\n",
       "      <td>49473</td>\n",
       "      <td>324817</td>\n",
       "    </tr>\n",
       "    <tr>\n",
       "      <th>2</th>\n",
       "      <td>254063</td>\n",
       "      <td>58917</td>\n",
       "      <td>195146</td>\n",
       "    </tr>\n",
       "    <tr>\n",
       "      <th>3</th>\n",
       "      <td>182728</td>\n",
       "      <td>50071</td>\n",
       "      <td>132657</td>\n",
       "    </tr>\n",
       "    <tr>\n",
       "      <th>4</th>\n",
       "      <td>107493</td>\n",
       "      <td>32899</td>\n",
       "      <td>74594</td>\n",
       "    </tr>\n",
       "    <tr>\n",
       "      <th>5</th>\n",
       "      <td>50104</td>\n",
       "      <td>17281</td>\n",
       "      <td>32823</td>\n",
       "    </tr>\n",
       "    <tr>\n",
       "      <th>6</th>\n",
       "      <td>24136</td>\n",
       "      <td>7706</td>\n",
       "      <td>16430</td>\n",
       "    </tr>\n",
       "    <tr>\n",
       "      <th>7</th>\n",
       "      <td>7186</td>\n",
       "      <td>2203</td>\n",
       "      <td>4983</td>\n",
       "    </tr>\n",
       "  </tbody>\n",
       "</table>\n",
       "</div>"
      ],
      "text/plain": [
       "              users  conversions  non_conversions\n",
       "impressions                                      \n",
       "1            374290        49473           324817\n",
       "2            254063        58917           195146\n",
       "3            182728        50071           132657\n",
       "4            107493        32899            74594\n",
       "5             50104        17281            32823\n",
       "6             24136         7706            16430\n",
       "7              7186         2203             4983"
      ]
     },
     "execution_count": 5,
     "metadata": {},
     "output_type": "execute_result"
    }
   ],
   "source": [
    "df_impressions = df.groupby(['impressions']).sum()\n",
    "df_impressions"
   ]
  },
  {
   "cell_type": "code",
   "execution_count": 6,
   "metadata": {
    "slideshow": {
     "slide_type": "slide"
    }
   },
   "outputs": [
    {
     "data": {
      "text/html": [
       "<div>\n",
       "<style scoped>\n",
       "    .dataframe tbody tr th:only-of-type {\n",
       "        vertical-align: middle;\n",
       "    }\n",
       "\n",
       "    .dataframe tbody tr th {\n",
       "        vertical-align: top;\n",
       "    }\n",
       "\n",
       "    .dataframe thead th {\n",
       "        text-align: right;\n",
       "    }\n",
       "</style>\n",
       "<table border=\"1\" class=\"dataframe\">\n",
       "  <thead>\n",
       "    <tr style=\"text-align: right;\">\n",
       "      <th></th>\n",
       "      <th>users</th>\n",
       "      <th>conversions</th>\n",
       "      <th>non_conversions</th>\n",
       "    </tr>\n",
       "    <tr>\n",
       "      <th>frequency_cap</th>\n",
       "      <th></th>\n",
       "      <th></th>\n",
       "      <th></th>\n",
       "    </tr>\n",
       "  </thead>\n",
       "  <tbody>\n",
       "    <tr>\n",
       "      <th>1</th>\n",
       "      <td>142913</td>\n",
       "      <td>22933</td>\n",
       "      <td>119980</td>\n",
       "    </tr>\n",
       "    <tr>\n",
       "      <th>2</th>\n",
       "      <td>142912</td>\n",
       "      <td>29099</td>\n",
       "      <td>113813</td>\n",
       "    </tr>\n",
       "    <tr>\n",
       "      <th>3</th>\n",
       "      <td>143171</td>\n",
       "      <td>32261</td>\n",
       "      <td>110910</td>\n",
       "    </tr>\n",
       "    <tr>\n",
       "      <th>4</th>\n",
       "      <td>142688</td>\n",
       "      <td>33073</td>\n",
       "      <td>109615</td>\n",
       "    </tr>\n",
       "    <tr>\n",
       "      <th>5</th>\n",
       "      <td>143012</td>\n",
       "      <td>33498</td>\n",
       "      <td>109514</td>\n",
       "    </tr>\n",
       "    <tr>\n",
       "      <th>6</th>\n",
       "      <td>142330</td>\n",
       "      <td>33656</td>\n",
       "      <td>108674</td>\n",
       "    </tr>\n",
       "    <tr>\n",
       "      <th>7</th>\n",
       "      <td>142974</td>\n",
       "      <td>34030</td>\n",
       "      <td>108944</td>\n",
       "    </tr>\n",
       "  </tbody>\n",
       "</table>\n",
       "</div>"
      ],
      "text/plain": [
       "                users  conversions  non_conversions\n",
       "frequency_cap                                      \n",
       "1              142913        22933           119980\n",
       "2              142912        29099           113813\n",
       "3              143171        32261           110910\n",
       "4              142688        33073           109615\n",
       "5              143012        33498           109514\n",
       "6              142330        33656           108674\n",
       "7              142974        34030           108944"
      ]
     },
     "execution_count": 6,
     "metadata": {},
     "output_type": "execute_result"
    }
   ],
   "source": [
    "df_frequency_cap = df.groupby(['frequency_cap']).sum()\n",
    "df_frequency_cap"
   ]
  },
  {
   "cell_type": "code",
   "execution_count": 7,
   "metadata": {
    "slideshow": {
     "slide_type": "slide"
    }
   },
   "outputs": [],
   "source": [
    "n_samples = 10 ** 4\n",
    "\n",
    "P_Y_given_X = [stats.beta.rvs(\n",
    "    df_impressions['conversions'][i],\n",
    "    df_impressions['non_conversions'][i],\n",
    "    size = n_samples) for i in df_impressions.index]\n",
    "\n",
    "P_Y_given_Z = [stats.beta.rvs(\n",
    "    df_frequency_cap['conversions'][i],\n",
    "    df_frequency_cap['non_conversions'][i],\n",
    "    size = n_samples) for i in df_frequency_cap.index]"
   ]
  },
  {
   "cell_type": "code",
   "execution_count": 8,
   "metadata": {
    "slideshow": {
     "slide_type": "slide"
    }
   },
   "outputs": [
    {
     "data": {
      "image/png": "[encoded data removed]",
      "text/plain": [
       "<Figure size 432x288 with 1 Axes>"
      ]
     },
     "metadata": {
      "needs_background": "light"
     },
     "output_type": "display_data"
    }
   ],
   "source": [
    "plot_posteriors(df_impressions.index, P_Y_given_X)"
   ]
  },
  {
   "cell_type": "code",
   "execution_count": 9,
   "metadata": {
    "slideshow": {
     "slide_type": "fragment"
    }
   },
   "outputs": [
    {
     "data": {
      "image/png": "[encoded data removed]",
      "text/plain": [
       "<Figure size 432x288 with 1 Axes>"
      ]
     },
     "metadata": {
      "needs_background": "light"
     },
     "output_type": "display_data"
    }
   ],
   "source": [
    "plot_posteriors(df_frequency_cap.index, P_Y_given_Z)"
   ]
  },
  {
   "cell_type": "markdown",
   "metadata": {
    "slideshow": {
     "slide_type": "slide"
    }
   },
   "source": [
    "## Two stage approach\n",
    "\n",
    "<h1><center>Stage 1: $x = c_1 + z \\theta + \\varepsilon_1$</center></h1>"
   ]
  },
  {
   "cell_type": "markdown",
   "metadata": {
    "slideshow": {
     "slide_type": "fragment"
    }
   },
   "source": [
    "<h1><center>Stage 2: $y = c_2 + \\hat{x} \\beta + \\varepsilon_2$</center></h1>"
   ]
  },
  {
   "cell_type": "markdown",
   "metadata": {
    "slideshow": {
     "slide_type": "fragment"
    }
   },
   "source": [
    "<h1><center>$\\hat{x} = \\hat{c_1} + z \\hat{\\theta}$</center></h1>"
   ]
  },
  {
   "cell_type": "markdown",
   "metadata": {
    "slideshow": {
     "slide_type": "fragment"
    }
   },
   "source": [
    "<h2><center>$\\hat{x} \\sim Beta(a, b)$</center></h2>"
   ]
  },
  {
   "cell_type": "code",
   "execution_count": 44,
   "metadata": {
    "slideshow": {
     "slide_type": "slide"
    }
   },
   "outputs": [],
   "source": [
    "a_xhat = np.zeros((max_cap, max_cap))\n",
    "for i in range(max_cap):\n",
    "    for j in range(max_cap):\n",
    "        a_xhat[i, j] = np.sum(df.loc[i+1].users[df.loc[i+1].index >= j+1])\n",
    "n_xhat = np.array([df_frequency_cap.users] * max_cap).T\n",
    "b_xhat = n_xhat - a_xhat\n",
    "xhat = a_xhat / n_xhat"
   ]
  },
  {
   "cell_type": "code",
   "execution_count": 11,
   "metadata": {
    "slideshow": {
     "slide_type": "slide"
    }
   },
   "outputs": [
    {
     "data": {
      "text/html": [
       "<div>\n",
       "<style scoped>\n",
       "    .dataframe tbody tr th:only-of-type {\n",
       "        vertical-align: middle;\n",
       "    }\n",
       "\n",
       "    .dataframe tbody tr th {\n",
       "        vertical-align: top;\n",
       "    }\n",
       "\n",
       "    .dataframe thead th {\n",
       "        text-align: right;\n",
       "    }\n",
       "</style>\n",
       "<table border=\"1\" class=\"dataframe\">\n",
       "  <thead>\n",
       "    <tr style=\"text-align: right;\">\n",
       "      <th></th>\n",
       "      <th>impression 1</th>\n",
       "      <th>impression 2</th>\n",
       "      <th>impression 3</th>\n",
       "      <th>impression 4</th>\n",
       "      <th>impression 5</th>\n",
       "      <th>impression 6</th>\n",
       "      <th>impression 7</th>\n",
       "    </tr>\n",
       "  </thead>\n",
       "  <tbody>\n",
       "    <tr>\n",
       "      <th>cap 1</th>\n",
       "      <td>1.0</td>\n",
       "      <td>0.000000</td>\n",
       "      <td>0.000000</td>\n",
       "      <td>0.000000</td>\n",
       "      <td>0.000000</td>\n",
       "      <td>0.000000</td>\n",
       "      <td>0.000000</td>\n",
       "    </tr>\n",
       "    <tr>\n",
       "      <th>cap 2</th>\n",
       "      <td>1.0</td>\n",
       "      <td>0.730023</td>\n",
       "      <td>0.000000</td>\n",
       "      <td>0.000000</td>\n",
       "      <td>0.000000</td>\n",
       "      <td>0.000000</td>\n",
       "      <td>0.000000</td>\n",
       "    </tr>\n",
       "    <tr>\n",
       "      <th>cap 3</th>\n",
       "      <td>1.0</td>\n",
       "      <td>0.730001</td>\n",
       "      <td>0.520028</td>\n",
       "      <td>0.000000</td>\n",
       "      <td>0.000000</td>\n",
       "      <td>0.000000</td>\n",
       "      <td>0.000000</td>\n",
       "    </tr>\n",
       "    <tr>\n",
       "      <th>cap 4</th>\n",
       "      <td>1.0</td>\n",
       "      <td>0.731540</td>\n",
       "      <td>0.522441</td>\n",
       "      <td>0.331780</td>\n",
       "      <td>0.000000</td>\n",
       "      <td>0.000000</td>\n",
       "      <td>0.000000</td>\n",
       "    </tr>\n",
       "    <tr>\n",
       "      <th>cap 5</th>\n",
       "      <td>1.0</td>\n",
       "      <td>0.729673</td>\n",
       "      <td>0.520404</td>\n",
       "      <td>0.329476</td>\n",
       "      <td>0.190369</td>\n",
       "      <td>0.000000</td>\n",
       "      <td>0.000000</td>\n",
       "    </tr>\n",
       "    <tr>\n",
       "      <th>cap 6</th>\n",
       "      <td>1.0</td>\n",
       "      <td>0.730745</td>\n",
       "      <td>0.520340</td>\n",
       "      <td>0.331097</td>\n",
       "      <td>0.189939</td>\n",
       "      <td>0.109885</td>\n",
       "      <td>0.000000</td>\n",
       "    </tr>\n",
       "    <tr>\n",
       "      <th>cap 7</th>\n",
       "      <td>1.0</td>\n",
       "      <td>0.728279</td>\n",
       "      <td>0.518724</td>\n",
       "      <td>0.331067</td>\n",
       "      <td>0.190014</td>\n",
       "      <td>0.109684</td>\n",
       "      <td>0.050261</td>\n",
       "    </tr>\n",
       "  </tbody>\n",
       "</table>\n",
       "</div>"
      ],
      "text/plain": [
       "       impression 1  impression 2  impression 3  impression 4  impression 5  \\\n",
       "cap 1           1.0      0.000000      0.000000      0.000000      0.000000   \n",
       "cap 2           1.0      0.730023      0.000000      0.000000      0.000000   \n",
       "cap 3           1.0      0.730001      0.520028      0.000000      0.000000   \n",
       "cap 4           1.0      0.731540      0.522441      0.331780      0.000000   \n",
       "cap 5           1.0      0.729673      0.520404      0.329476      0.190369   \n",
       "cap 6           1.0      0.730745      0.520340      0.331097      0.189939   \n",
       "cap 7           1.0      0.728279      0.518724      0.331067      0.190014   \n",
       "\n",
       "       impression 6  impression 7  \n",
       "cap 1      0.000000      0.000000  \n",
       "cap 2      0.000000      0.000000  \n",
       "cap 3      0.000000      0.000000  \n",
       "cap 4      0.000000      0.000000  \n",
       "cap 5      0.000000      0.000000  \n",
       "cap 6      0.109885      0.000000  \n",
       "cap 7      0.109684      0.050261  "
      ]
     },
     "execution_count": 11,
     "metadata": {},
     "output_type": "execute_result"
    }
   ],
   "source": [
    "column_names = ['impression {}'.format(i+1) for i in range(max_impr)]\n",
    "index_names = ['cap {}'.format(i+1) for i in range(max_impr)]\n",
    "pd.DataFrame(xhat, columns = column_names, index = index_names)"
   ]
  },
  {
   "cell_type": "markdown",
   "metadata": {
    "slideshow": {
     "slide_type": "slide"
    }
   },
   "source": [
    "<h1><center>\n",
    "    Model 1<br>\n",
    "    <br>\n",
    "    $Y \\sim $Binomial$(U, P(Y|Z))$<br>\n",
    "    $P(Y|Z) = $logistic$(\\beta \\hat{x})$<br>\n",
    "    $\\beta \\sim $Normal$(0, 10)$<br>\n",
    "</center></h1>"
   ]
  },
  {
   "cell_type": "code",
   "execution_count": 12,
   "metadata": {
    "slideshow": {
     "slide_type": "slide"
    }
   },
   "outputs": [
    {
     "name": "stderr",
     "output_type": "stream",
     "text": [
      "Auto-assigning NUTS sampler...\n",
      "Initializing NUTS using jitter+adapt_diag...\n",
      "Multiprocess sampling (4 chains in 4 jobs)\n",
      "NUTS: [beta]\n"
     ]
    },
    {
     "data": {
      "text/html": [
       "\n",
       "    <div>\n",
       "        <style>\n",
       "            /* Turns off some styling */\n",
       "            progress {\n",
       "                /* gets rid of default border in Firefox and Opera. */\n",
       "                border: none;\n",
       "                /* Needs to be in here for Safari polyfill so background images work as expected. */\n",
       "                background-size: auto;\n",
       "            }\n",
       "            .progress-bar-interrupted, .progress-bar-interrupted::-webkit-progress-bar {\n",
       "                background: #F44336;\n",
       "            }\n",
       "        </style>\n",
       "      <progress value='8000' class='' max='8000' style='width:300px; height:20px; vertical-align: middle;'></progress>\n",
       "      100.00% [8000/8000 00:05<00:00 Sampling 4 chains, 0 divergences]\n",
       "    </div>\n",
       "    "
      ],
      "text/plain": [
       "<IPython.core.display.HTML object>"
      ]
     },
     "metadata": {},
     "output_type": "display_data"
    },
    {
     "name": "stderr",
     "output_type": "stream",
     "text": [
      "Sampling 4 chains for 1_000 tune and 1_000 draw iterations (4_000 + 4_000 draws total) took 15 seconds.\n"
     ]
    },
    {
     "data": {
      "image/png": "[encoded data removed]",
      "text/plain": [
       "<Figure size 864x144 with 2 Axes>"
      ]
     },
     "metadata": {
      "needs_background": "light"
     },
     "output_type": "display_data"
    }
   ],
   "source": [
    "with pm.Model() as model_1:\n",
    "    beta = pm.Normal('beta', mu=0, sigma=10, shape=max_cap)\n",
    "    p = sum(beta[i] * xhat[:, i] for i in range(max_cap))\n",
    "    p = pm.math.invlogit(p)\n",
    "    conversion = pm.Binomial('conversion', \n",
    "                             df_frequency_cap.users, \n",
    "                             p, \n",
    "                             observed=df_frequency_cap.conversions)\n",
    "    model_1 = pm.sample(1000, tune=1000, chains=4, cores=4)\n",
    "    pm.traceplot(model_1)"
   ]
  },
  {
   "cell_type": "code",
   "execution_count": 13,
   "metadata": {
    "slideshow": {
     "slide_type": "slide"
    }
   },
   "outputs": [
    {
     "data": {
      "image/png": "[encoded data removed]",
      "text/plain": [
       "<Figure size 432x288 with 1 Axes>"
      ]
     },
     "metadata": {
      "needs_background": "light"
     },
     "output_type": "display_data"
    }
   ],
   "source": [
    "beta_plot_1 = np.array(model_1['beta']).T\n",
    "plot_posteriors(df_frequency_cap.index[1:], beta_plot_1[1:], effects[1:])"
   ]
  },
  {
   "cell_type": "markdown",
   "metadata": {
    "slideshow": {
     "slide_type": "slide"
    }
   },
   "source": [
    "<h1><center>\n",
    "    Model 2: Switch to Normal distribution<br>\n",
    "    <br>\n",
    "    $Y \\sim $Normal$(p U, \\bar{\\sigma})$<br>\n",
    "    $\\bar{\\sigma} = \\sqrt{U\\bar{p}(1-\\bar{p})}$<br>\n",
    "    $p = \\beta \\hat{x}$<br>\n",
    "    $\\beta \\sim $Normal$(0, 0.1)$<br>\n",
    "</center></h1>"
   ]
  },
  {
   "cell_type": "code",
   "execution_count": null,
   "metadata": {
    "slideshow": {
     "slide_type": "slide"
    }
   },
   "outputs": [],
   "source": [
    "with pm.Model() as model_2:\n",
    "    beta = pm.Normal('beta', mu=0, sigma=0.1, shape=max_cap)\n",
    "    p = sum(beta[i] * xhat[:, i] for i in range(max_cap))\n",
    "    p = pm.Deterministic('p', p)\n",
    "    p_sample_average = df_frequency_cap.conversions / df_frequency_cap.users\n",
    "    p_sigma = np.sqrt(df_frequency_cap.users * \n",
    "                      p_sample_average * (1 - p_sample_average))\n",
    "    conversion = pm.Normal('conversion', \n",
    "                             mu = p * df_frequency_cap.users,\n",
    "                             sigma = p_sigma, \n",
    "                             observed=df_frequency_cap.conversions)\n",
    "    model_2 = pm.sample(1000, tune=1000, chains=4, cores=4)\n",
    "    pm.traceplot(model_2)"
   ]
  },
  {
   "cell_type": "code",
   "execution_count": 15,
   "metadata": {
    "slideshow": {
     "slide_type": "slide"
    }
   },
   "outputs": [
    {
     "name": "stdout",
     "output_type": "stream",
     "text": [
      "0.1573034702740343 0.24191194184485362\n"
     ]
    },
    {
     "data": {
      "text/plain": [
       "<seaborn.axisgrid.FacetGrid at 0x7fa56a2caee0>"
      ]
     },
     "execution_count": 15,
     "metadata": {},
     "output_type": "execute_result"
    },
    {
     "data": {
      "image/png": "[encoded data removed]",
      "text/plain": [
       "<Figure size 402.375x360 with 1 Axes>"
      ]
     },
     "metadata": {
      "needs_background": "light"
     },
     "output_type": "display_data"
    }
   ],
   "source": [
    "# are we ok with our normal distribution assumption?\n",
    "print(np.min(model_2['p']), np.max(model_2['p']))\n",
    "sns.displot(model_2['p'])"
   ]
  },
  {
   "cell_type": "code",
   "execution_count": 16,
   "metadata": {
    "slideshow": {
     "slide_type": "slide"
    }
   },
   "outputs": [
    {
     "data": {
      "image/png": "[encoded data removed]",
      "text/plain": [
       "<Figure size 432x288 with 1 Axes>"
      ]
     },
     "metadata": {
      "needs_background": "light"
     },
     "output_type": "display_data"
    }
   ],
   "source": [
    "beta_plot_2 = np.array(model_2['beta']).T\n",
    "plot_posteriors(df_frequency_cap.index[1:], beta_plot_2[1:], effects[1:])"
   ]
  },
  {
   "cell_type": "markdown",
   "metadata": {
    "slideshow": {
     "slide_type": "slide"
    }
   },
   "source": [
    "## Making Assumptions\n",
    "* Core of modelling: variance / bias trade-off"
   ]
  },
  {
   "cell_type": "markdown",
   "metadata": {
    "slideshow": {
     "slide_type": "fragment"
    }
   },
   "source": [
    "* Let's see what happens when we assume $\\beta_i \\geq 0$"
   ]
  },
  {
   "cell_type": "markdown",
   "metadata": {
    "slideshow": {
     "slide_type": "slide"
    }
   },
   "source": [
    "<h1><center>\n",
    "    Model 3: Assume $\\beta_i \\geq 0$<br>\n",
    "    <br>\n",
    "    $Y \\sim $Normal$(p U, \\bar{\\sigma})$<br>\n",
    "    $\\bar{\\sigma} = \\sqrt{U\\bar{p}(1-\\bar{p})}$<br>\n",
    "    $p = c + \\beta \\hat{x}$<br>\n",
    "    $c \\sim $Normal$(0, 0.5)$<br>\n",
    "    $\\beta \\sim $HalfNormal$(0.1)$<br>\n",
    "</center></h1>"
   ]
  },
  {
   "cell_type": "code",
   "execution_count": null,
   "metadata": {
    "slideshow": {
     "slide_type": "slide"
    }
   },
   "outputs": [],
   "source": [
    "with pm.Model() as model_3:\n",
    "    c = pm.Normal('c', mu = 0, sigma = 0.5)\n",
    "    beta = pm.HalfNormal('beta', sigma=0.1, shape=max_cap)\n",
    "    p = c + sum(beta[i] * xhat[:, i] for i in range(1, max_cap))\n",
    "    # Note: we skip beta_0 because we now have c\n",
    "    p = pm.Deterministic('p', p)\n",
    "    p_sample_average = df_frequency_cap.conversions / df_frequency_cap.users\n",
    "    p_sigma = np.sqrt(df_frequency_cap.users * \n",
    "                      p_sample_average * (1 - p_sample_average))\n",
    "    conversion = pm.Normal('conversion', \n",
    "                             mu = p * df_frequency_cap.users,\n",
    "                             sigma = p_sigma, \n",
    "                             observed=df_frequency_cap.conversions)\n",
    "    model_3 = pm.sample(1000, tune=1000, chains=4, cores=4)\n",
    "    pm.traceplot(model_3)"
   ]
  },
  {
   "cell_type": "code",
   "execution_count": 18,
   "metadata": {
    "slideshow": {
     "slide_type": "slide"
    }
   },
   "outputs": [
    {
     "data": {
      "image/png": "[encoded data removed]",
      "text/plain": [
       "<Figure size 432x288 with 1 Axes>"
      ]
     },
     "metadata": {
      "needs_background": "light"
     },
     "output_type": "display_data"
    }
   ],
   "source": [
    "beta_plot_3 = np.array(model_3['beta']).T\n",
    "plot_posteriors(df_frequency_cap.index[1:], beta_plot_3[1:], effects[1:])"
   ]
  },
  {
   "cell_type": "markdown",
   "metadata": {
    "slideshow": {
     "slide_type": "slide"
    }
   },
   "source": [
    "## Making Assumptions\n",
    "* Core of modelling: variance / bias trade-off"
   ]
  },
  {
   "cell_type": "markdown",
   "metadata": {
    "slideshow": {
     "slide_type": "fragment"
    }
   },
   "source": [
    "* Let's make some assumptions on a parametric form for $\\beta_i$"
   ]
  },
  {
   "cell_type": "markdown",
   "metadata": {
    "slideshow": {
     "slide_type": "slide"
    }
   },
   "source": [
    "<h1><center>\n",
    "    Model 4<br>\n",
    "    <br>\n",
    "    $Y \\sim $Normal$(p U, \\bar{\\sigma})$<br>\n",
    "    $\\bar{\\sigma} = \\sqrt{U\\bar{p}(1-\\bar{p})}$<br>\n",
    "    $p = c + \\beta \\hat{x}$<br>\n",
    "    $c \\sim $Normal$(0, 0.5)$<br>\n",
    "    $\\beta_i = e^{\\alpha_0 + i\\alpha_1}$<br>\n",
    "    $\\alpha_0 \\sim $Normal$(-2, 2)$<br>\n",
    "    $\\alpha_1 \\sim $Normal$(0, 2)$<br>\n",
    "</center></h1>"
   ]
  },
  {
   "cell_type": "code",
   "execution_count": null,
   "metadata": {
    "slideshow": {
     "slide_type": "slide"
    }
   },
   "outputs": [],
   "source": [
    "with pm.Model() as model_4:\n",
    "    c = pm.Normal('c', mu = 0, sigma = 0.5)\n",
    "    alpha0 = pm.Normal('alpha0', mu=-2, sigma=2)\n",
    "    alpha1 = pm.Normal('alpha1', mu=0, sigma=2)\n",
    "    beta = pm.Deterministic('beta', \n",
    "                        np.exp(alpha0 + alpha1 * np.array(range(max_cap))))\n",
    "    p = c + sum(beta[i] * xhat[:, i] for i in range(max_cap))\n",
    "    p = pm.Deterministic('p', p)\n",
    "    p_sample_average = df_frequency_cap.conversions / df_frequency_cap.users\n",
    "    p_sigma = np.sqrt(df_frequency_cap.users * \n",
    "                      p_sample_average * (1 - p_sample_average))\n",
    "    conversion = pm.Normal('conversion', \n",
    "                             mu = p * df_frequency_cap.users,\n",
    "                             sigma = p_sigma, \n",
    "                             observed=df_frequency_cap.conversions)\n",
    "    model_4 = pm.sample(1000, tune=1000, chains=4, cores=4)\n",
    "    pm.traceplot(model_4)"
   ]
  },
  {
   "cell_type": "code",
   "execution_count": 29,
   "metadata": {
    "slideshow": {
     "slide_type": "slide"
    }
   },
   "outputs": [
    {
     "data": {
      "image/png": "[encoded data removed]",
      "text/plain": [
       "<Figure size 432x288 with 1 Axes>"
      ]
     },
     "metadata": {
      "needs_background": "light"
     },
     "output_type": "display_data"
    }
   ],
   "source": [
    "# Note: we also have an estimate for the first impressions now\n",
    "beta_plot_4 = np.array(model_4['beta']).T\n",
    "plot_posteriors(df_frequency_cap.index, beta_plot_4, effects)"
   ]
  },
  {
   "cell_type": "code",
   "execution_count": 30,
   "metadata": {
    "slideshow": {
     "slide_type": "slide"
    }
   },
   "outputs": [
    {
     "data": {
      "image/png": "[encoded data removed]",
      "text/plain": [
       "<Figure size 432x288 with 1 Axes>"
      ]
     },
     "metadata": {
      "needs_background": "light"
     },
     "output_type": "display_data"
    }
   ],
   "source": [
    "plot_posteriors(df_frequency_cap.index[5:7], beta_plot_4[5:7], effects[5:7])"
   ]
  },
  {
   "cell_type": "markdown",
   "metadata": {
    "slideshow": {
     "slide_type": "slide"
    }
   },
   "source": [
    "<h1><center>\n",
    "    Model 5: Include Hierarchy<br>\n",
    "    <br>\n",
    "    $Y \\sim $Normal$(p U, \\bar{\\sigma})$<br>\n",
    "    $\\bar{\\sigma} = \\sqrt{U\\bar{p}(1-\\bar{p})}$<br>\n",
    "    $p = c + \\beta \\hat{x}$<br>\n",
    "    $c \\sim $Normal$(0, 0.5)$<br>\n",
    "    $\\beta_i = e^{\\alpha_0^i + i\\alpha_1}$<br>\n",
    "    $\\alpha_0 \\sim $Normal$(-2, 2)$<br>\n",
    "    $\\sigma^{\\alpha} \\sim $HalfNormal$(0.5)$<br>\n",
    "    $\\alpha_0^i \\sim $Normal$(\\alpha_0, \\sigma^{\\alpha})$<br>\n",
    "    $\\alpha_1 \\sim $Normal$(0, 2)$<br>\n",
    "</center></h1>"
   ]
  },
  {
   "cell_type": "code",
   "execution_count": null,
   "metadata": {
    "slideshow": {
     "slide_type": "slide"
    }
   },
   "outputs": [],
   "source": [
    "with pm.Model() as model_5:\n",
    "    alpha0_prior = pm.Normal('alpha0_prior', mu=-2, sigma=2)\n",
    "    alpha0_sigma = pm.HalfNormal('alpha0_sigma', sigma = 0.5)\n",
    "    alpha0 = pm.Normal('alpha0', \n",
    "                       mu=alpha0_prior, sigma=alpha0_sigma, shape=max_cap)\n",
    "    alpha1 = pm.Normal('alpha1', mu=0, sigma=2)\n",
    "    beta = pm.Deterministic('beta', \n",
    "                            np.exp(alpha0 + alpha1 * np.array(range(max_cap))))\n",
    "    p = sum(beta[i] * xhat[:, i] for i in range(max_cap))\n",
    "    p = pm.Deterministic('p', p)\n",
    "    p_sample_average = df_frequency_cap.conversions / df_frequency_cap.users\n",
    "    p_sigma = np.sqrt(df_frequency_cap.users * \n",
    "                      p_sample_average * (1 - p_sample_average))\n",
    "    conversion = pm.Normal('conversion', \n",
    "                             mu = p * df_frequency_cap.users,\n",
    "                             sigma = p_sigma, \n",
    "                             observed=df_frequency_cap.conversions)\n",
    "    model_5 = pm.sample(1000, tune=1000, chains=4, cores=4)\n",
    "    pm.traceplot(model_5)"
   ]
  },
  {
   "cell_type": "code",
   "execution_count": 32,
   "metadata": {
    "slideshow": {
     "slide_type": "slide"
    }
   },
   "outputs": [
    {
     "data": {
      "image/png": "[encoded data removed]",
      "text/plain": [
       "<Figure size 432x288 with 1 Axes>"
      ]
     },
     "metadata": {
      "needs_background": "light"
     },
     "output_type": "display_data"
    }
   ],
   "source": [
    "beta_plot_5 = np.array(model_5['beta']).T\n",
    "plot_posteriors(df_frequency_cap.index[1:], beta_plot_5[1:], effects[1:])"
   ]
  },
  {
   "cell_type": "markdown",
   "metadata": {
    "slideshow": {
     "slide_type": "slide"
    }
   },
   "source": [
    "## However...\n",
    "* Our posteriors are too optimistic"
   ]
  },
  {
   "cell_type": "markdown",
   "metadata": {
    "slideshow": {
     "slide_type": "fragment"
    }
   },
   "source": [
    "* We assume $\\hat{x}$ to be deterministic, while in fact $\\hat{x} \\sim Beta(a, b)$"
   ]
  },
  {
   "cell_type": "markdown",
   "metadata": {
    "slideshow": {
     "slide_type": "fragment"
    }
   },
   "source": [
    "* Estimation error (variance) within our estimates is in fact larger because of estimation error in the first stage"
   ]
  },
  {
   "cell_type": "markdown",
   "metadata": {
    "slideshow": {
     "slide_type": "slide"
    }
   },
   "source": [
    "## What didn't work for me\n",
    "* Implement theano random stream to do random draws from $\\hat{x} \\sim Beta(a, b)$ during MCMC estimation"
   ]
  },
  {
   "cell_type": "markdown",
   "metadata": {
    "slideshow": {
     "slide_type": "fragment"
    }
   },
   "source": [
    "* Estimation of $\\hat{x}$ in the same model (i.e. estimate both stages at once)"
   ]
  },
  {
   "cell_type": "code",
   "execution_count": null,
   "metadata": {
    "slideshow": {
     "slide_type": "skip"
    }
   },
   "outputs": [],
   "source": [
    "# Trying to estimate both stages at once like this, doesn't seem to work\n",
    "with pm.Model() as model_6:\n",
    "    xhat_pm = pm.Beta('xhat_pm', 1, 1, shape=(max_impr, max_cap))\n",
    "    xbar = pm.Binomial('xbar', n_xhat, xhat_pm, observed=a_xhat)\n",
    "    c = pm.Normal('c', mu = 0, sigma = 0.5)\n",
    "    alpha0 = pm.Normal('alpha0', mu=-2, sigma=2)\n",
    "    alpha1 = pm.Normal('alpha1', mu=0, sigma=2)\n",
    "    beta = pm.Deterministic('beta', \n",
    "                            np.exp(alpha0 + alpha1 * np.array(range(max_cap))))\n",
    "    p = c + sum(beta[i] * xhat_pm[:, i] for i in range(max_cap))\n",
    "    p = pm.Deterministic('p', p)\n",
    "    p_sample_average = df_frequency_cap.conversions / df_frequency_cap.users\n",
    "    p_sigma = np.sqrt(df_frequency_cap.users * \n",
    "                      p_sample_average * (1 - p_sample_average))\n",
    "    conversion = pm.Normal('conversion', \n",
    "                             mu = p * df_frequency_cap.users,\n",
    "                             sigma = p_sigma, \n",
    "                             observed=df_frequency_cap.conversions)\n",
    "    model_6 = pm.sample(1000, tune=1000, chains=4, cores=4)\n",
    "    pm.traceplot(model_6)"
   ]
  },
  {
   "cell_type": "markdown",
   "metadata": {
    "slideshow": {
     "slide_type": "slide"
    }
   },
   "source": [
    "## My 'bootstrapping' approach\n",
    "* We sample from $\\hat{x} \\sim Beta(a, b)$ and estimate our model N times using the sampled $\\tilde{x}$"
   ]
  },
  {
   "cell_type": "code",
   "execution_count": null,
   "metadata": {
    "slideshow": {
     "slide_type": "slide"
    }
   },
   "outputs": [],
   "source": [
    "N_runs = 100\n",
    "\n",
    "for r in range(N_runs):\n",
    "    xtilde = stats.beta.rvs(a_xhat+1, b_xhat+1)\n",
    "    print('This is run {} out of {}'.format(r+1, N_runs))\n",
    "    try:\n",
    "        with pm.Model() as model_7:\n",
    "            c = pm.Normal('c', mu = 0, sigma = 0.5)\n",
    "            alpha0 = pm.Normal('alpha0', mu=-2, sigma=2)\n",
    "            alpha1 = pm.Normal('alpha1', mu=0, sigma=2)\n",
    "            beta = pm.Deterministic('beta', \n",
    "                            np.exp(alpha0 + alpha1 * np.array(range(max_cap))))\n",
    "            p = c + sum(beta[i] * xtilde[:, i] for i in range(max_cap))\n",
    "            p = pm.Deterministic('p', p)\n",
    "            p_sample_average = df_frequency_cap.conversions \\\n",
    "                                    / df_frequency_cap.users\n",
    "            p_sigma = np.sqrt(df_frequency_cap.users * \n",
    "                              p_sample_average * (1 - p_sample_average))\n",
    "            conversion = pm.Normal('conversion', \n",
    "                                     mu = p * df_frequency_cap.users,\n",
    "                                     sigma = p_sigma, \n",
    "                                     observed=df_frequency_cap.conversions)\n",
    "            model_7 = pm.sample(100, tune=1000, chains=4, cores=4)\n",
    "    except:\n",
    "        continue\n",
    "    if r == 0:\n",
    "        beta_plot_7 = np.array(model_7['beta'])\n",
    "    else:\n",
    "        beta_plot_7 = np.vstack((beta_plot_7, np.array(model_7['beta'])))"
   ]
  },
  {
   "cell_type": "code",
   "execution_count": 73,
   "metadata": {
    "slideshow": {
     "slide_type": "slide"
    }
   },
   "outputs": [
    {
     "data": {
      "image/png": "[encoded data removed]",
      "text/plain": [
       "<Figure size 432x288 with 1 Axes>"
      ]
     },
     "metadata": {
      "needs_background": "light"
     },
     "output_type": "display_data"
    }
   ],
   "source": [
    "plot_posteriors(df_frequency_cap.index, beta_plot_7.T, effects)"
   ]
  },
  {
   "cell_type": "code",
   "execution_count": null,
   "metadata": {
    "slideshow": {
     "slide_type": "skip"
    }
   },
   "outputs": [],
   "source": [
    "N_runs = 100\n",
    "\n",
    "for r in range(N_runs):\n",
    "    xtilde = stats.beta.rvs(a_xhat+1, b_xhat+1)\n",
    "    print(xtilde)\n",
    "    print('This is run {} out of {}'.format(r+1, N_runs))\n",
    "    try:\n",
    "        with pm.Model() as model_8:\n",
    "            beta = pm.Normal('beta', mu=0, sigma=0.1, shape=max_cap)\n",
    "            p = sum(beta[i] * xtilde[:, i] for i in range(max_cap))\n",
    "            p = pm.Deterministic('p', p)\n",
    "            p_sample_average = df_frequency_cap.conversions / df_frequency_cap.users\n",
    "            p_sigma = np.sqrt(df_frequency_cap.users * \n",
    "                              p_sample_average * (1 - p_sample_average))\n",
    "            conversion = pm.Normal('conversion', \n",
    "                                     mu = p * df_frequency_cap.users,\n",
    "                                     sigma = p_sigma, \n",
    "                                     observed=df_frequency_cap.conversions)\n",
    "            model_8 = pm.sample(100, tune=1000, chains=4, cores=4)\n",
    "    except:\n",
    "        continue\n",
    "    if r == 0:\n",
    "        beta_plot_8 = np.array(model_8['beta'])\n",
    "    else:\n",
    "        beta_plot_8 = np.vstack((beta_plot_8, np.array(model_8['beta'])))"
   ]
  },
  {
   "cell_type": "code",
   "execution_count": 76,
   "metadata": {
    "slideshow": {
     "slide_type": "skip"
    }
   },
   "outputs": [
    {
     "data": {
      "image/png": "[encoded data removed]",
      "text/plain": [
       "<Figure size 432x288 with 1 Axes>"
      ]
     },
     "metadata": {
      "needs_background": "light"
     },
     "output_type": "display_data"
    }
   ],
   "source": [
    "plot_posteriors(df_frequency_cap.index[1:], beta_plot_8.T[1:], effects[1:])"
   ]
  },
  {
   "cell_type": "code",
   "execution_count": 52,
   "metadata": {
    "slideshow": {
     "slide_type": "skip"
    }
   },
   "outputs": [
    {
     "name": "stdout",
     "output_type": "stream",
     "text": [
      "[[9.99989239e-01 5.53745723e-06 1.26413857e-06 8.12348488e-06\n",
      "  1.57861288e-05 8.40078345e-06 8.74189865e-07]\n",
      " [9.99995845e-01 7.30569744e-01 2.40323071e-07 6.39845302e-06\n",
      "  3.35318894e-05 5.25249209e-06 9.27762848e-07]\n",
      " [9.99998571e-01 7.29210223e-01 5.19608754e-01 1.16902853e-06\n",
      "  1.32101755e-05 7.69419914e-06 1.43113671e-05]\n",
      " [9.99996738e-01 7.30103592e-01 5.22421057e-01 3.31684677e-01\n",
      "  1.14617726e-06 1.08229473e-06 4.35014803e-06]\n",
      " [9.99986363e-01 7.29966987e-01 5.21015879e-01 3.27813692e-01\n",
      "  1.88631751e-01 4.61066473e-06 2.28441285e-05]\n",
      " [9.99998059e-01 7.30527040e-01 5.18576004e-01 3.30466132e-01\n",
      "  1.87654669e-01 1.09575892e-01 2.39853964e-07]\n",
      " [9.99991455e-01 7.29488357e-01 5.18483121e-01 3.29733954e-01\n",
      "  1.90625963e-01 1.08230361e-01 5.00011063e-02]]\n"
     ]
    },
    {
     "data": {
      "text/plain": [
       "array([[1.        , 0.        , 0.        , 0.        , 0.        ,\n",
       "        0.        , 0.        ],\n",
       "       [1.        , 0.7322136 , 0.        , 0.        , 0.        ,\n",
       "        0.        , 0.        ],\n",
       "       [1.        , 0.7306144 , 0.52062985, 0.        , 0.        ,\n",
       "        0.        , 0.        ],\n",
       "       [1.        , 0.73221867, 0.52400197, 0.33202902, 0.        ,\n",
       "        0.        , 0.        ],\n",
       "       [1.        , 0.72983344, 0.52087233, 0.32670812, 0.19107708,\n",
       "        0.        , 0.        ],\n",
       "       [1.        , 0.72953164, 0.52379811, 0.33114555, 0.18967569,\n",
       "        0.11046421, 0.        ],\n",
       "       [1.        , 0.72669286, 0.5198746 , 0.3314446 , 0.18971119,\n",
       "        0.108038  , 0.0492439 ]])"
      ]
     },
     "execution_count": 52,
     "metadata": {},
     "output_type": "execute_result"
    }
   ],
   "source": [
    "# Note: alternative for calculating xtilde\n",
    "xtilde = np.zeros(xhat.shape)\n",
    "for i in range(max_cap):\n",
    "    for j in range(max_impr):\n",
    "        if a_xhat[i, j] > 0 and b_xhat[i, j] > 0:\n",
    "            xtilde[i, j] = stats.beta.rvs(a_xhat[i, j], b_xhat[i, j])\n",
    "        elif a_xhat[i, j] > 0 and b_xhat[i, j] == 0:\n",
    "            xtilde[i, j] = 1\n",
    "xtilde"
   ]
  },
  {
   "cell_type": "markdown",
   "metadata": {
    "slideshow": {
     "slide_type": "slide"
    }
   },
   "source": [
    "## Why does it seem to have little effect?\n",
    "* The variance in $\\hat{x}$ is small in comparison to the variance in $P(Y|Z)$"
   ]
  },
  {
   "cell_type": "markdown",
   "metadata": {
    "slideshow": {
     "slide_type": "fragment"
    }
   },
   "source": [
    "* How would you approach incorporating the variance of the first stage estimation?"
   ]
  },
  {
   "cell_type": "markdown",
   "metadata": {
    "slideshow": {
     "slide_type": "slide"
    }
   },
   "source": [
    "## Recap: when to use instrumental variables\n",
    "* You need to have unbiased estimates of causal effects"
   ]
  },
  {
   "cell_type": "markdown",
   "metadata": {
    "slideshow": {
     "slide_type": "fragment"
    }
   },
   "source": [
    "* You can't A/B test the treatment of interest"
   ]
  },
  {
   "cell_type": "markdown",
   "metadata": {
    "slideshow": {
     "slide_type": "fragment"
    }
   },
   "source": [
    "* You can run an A/B test something that influences the treatment of interest, but not the outcome directly"
   ]
  },
  {
   "cell_type": "markdown",
   "metadata": {
    "slideshow": {
     "slide_type": "fragment"
    }
   },
   "source": [
    "* You're sure you don't just need the results of the A/B tests"
   ]
  },
  {
   "cell_type": "markdown",
   "metadata": {
    "slideshow": {
     "slide_type": "slide"
    }
   },
   "source": [
    "## Conclusion\n",
    "* Instrumental variables can be applied to quite specific setups"
   ]
  },
  {
   "cell_type": "markdown",
   "metadata": {
    "slideshow": {
     "slide_type": "fragment"
    }
   },
   "source": [
    "* You can get unbiased estimates of causal effects for something you can't A/B test"
   ]
  },
  {
   "cell_type": "markdown",
   "metadata": {
    "slideshow": {
     "slide_type": "fragment"
    }
   },
   "source": [
    "* In this talk, I showed you how to estimate using PyMC3 following the two-stage approach"
   ]
  },
  {
   "cell_type": "markdown",
   "metadata": {
    "slideshow": {
     "slide_type": "fragment"
    }
   },
   "source": [
    "* When you run into problems with variance, you can start modelling by making parametric assumptions"
   ]
  },
  {
   "cell_type": "markdown",
   "metadata": {
    "slideshow": {
     "slide_type": "fragment"
    }
   },
   "source": [
    "* Hierachical modelling can be used to soften assumptions"
   ]
  },
  {
   "cell_type": "markdown",
   "metadata": {
    "slideshow": {
     "slide_type": "fragment"
    }
   },
   "source": [
    "* I showed my 'bootstrapping' method for taking the first stage estimation error into account"
   ]
  },
  {
   "cell_type": "markdown",
   "metadata": {
    "slideshow": {
     "slide_type": "slide"
    }
   },
   "source": [
    "## Questions?"
   ]
  },
  {
   "cell_type": "code",
   "execution_count": null,
   "metadata": {
    "slideshow": {
     "slide_type": "skip"
    }
   },
   "outputs": [
    {
     "name": "stdout",
     "output_type": "stream",
     "text": [
      "[NbConvertApp] Converting notebook instrumental_variable_frequency_cap.ipynb to slides\n",
      "[NbConvertApp] Writing 673276 bytes to instrumental_variable_frequency_cap.slides.html\n",
      "[NbConvertApp] Redirecting reveal.js requests to https://cdnjs.cloudflare.com/ajax/libs/reveal.js/3.5.0\n",
      "Serving your slides at http://127.0.0.1:8000/instrumental_variable_frequency_cap.slides.html\n",
      "Use Control-C to stop this server\n",
      "WARNING:tornado.access:404 GET /custom.css (127.0.0.1) 0.53ms\n",
      "WARNING:tornado.access:404 GET /custom.css (127.0.0.1) 0.55ms\n"
     ]
    }
   ],
   "source": [
    "!jupyter nbconvert instrumental_variable_frequency_cap.ipynb --to slides --post serve"
   ]
  }
 ],
 "metadata": {
  "celltoolbar": "Slideshow",
  "kernelspec": {
   "display_name": "freqcap_iv",
   "language": "python",
   "name": "freqcap_iv"
  },
  "language_info": {
   "codemirror_mode": {
    "name": "ipython",
    "version": 3
   },
   "file_extension": ".py",
   "mimetype": "text/x-python",
   "name": "python",
   "nbconvert_exporter": "python",
   "pygments_lexer": "ipython3",
   "version": "3.8.3"
  }
 },
 "nbformat": 4,
 "nbformat_minor": 4
}
